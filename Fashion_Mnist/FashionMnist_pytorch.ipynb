{
  "cells": [
    {
      "cell_type": "code",
      "execution_count": null,
      "metadata": {
        "id": "2kaU8hCkluY5"
      },
      "outputs": [],
      "source": [
        "! pip install wandb"
      ]
    },
    {
      "cell_type": "code",
      "execution_count": 3,
      "metadata": {
        "id": "RRWCcrx5mrFD"
      },
      "outputs": [],
      "source": [
        "import wandb\n",
        "from wandb.keras import WandbCallback"
      ]
    },
    {
      "cell_type": "code",
      "execution_count": null,
      "metadata": {
        "id": "39mZPp75l1O_"
      },
      "outputs": [],
      "source": [
        "wandb.init(project = 'FashionMnist_pytorch')"
      ]
    },
    {
      "cell_type": "code",
      "execution_count": 5,
      "metadata": {
        "id": "BRGj-7CCl9X9"
      },
      "outputs": [],
      "source": [
        "\n",
        "config = wandb.config\n"
      ]
    },
    {
      "cell_type": "code",
      "execution_count": 8,
      "metadata": {
        "id": "fOCz8zGcAHaH"
      },
      "outputs": [],
      "source": [
        "import torch\n",
        "import torchvision"
      ]
    },
    {
      "cell_type": "code",
      "execution_count": 7,
      "metadata": {
        "id": "grcg7uA_GOK8"
      },
      "outputs": [],
      "source": [
        "def calc_acc(pred,labels):\n",
        "  _,pred_max = torch.max(preds , 1)\n",
        "  accuracy = torch.sum(pred_max == labels.data , dtype = torch.float64) / len(preds)\n",
        "  return accuracy\n",
        "\n"
      ]
    },
    {
      "cell_type": "code",
      "execution_count": 9,
      "metadata": {
        "id": "C1UskUQVAQh4"
      },
      "outputs": [],
      "source": [
        "class MyModel(torch.nn.Module):\n",
        "\n",
        "  def __init__(self):\n",
        "    super().__init__()\n",
        "    self.fc1 = torch.nn.Linear(784,128)\n",
        "    self.fc2 = torch.nn.Linear(128,10)\n",
        "\n",
        "  def forward(self,x):\n",
        "    x = x.reshape((x.shape[0],784))\n",
        "    x = self.fc1(x)\n",
        "    x = torch.relu(x)\n",
        "    x = torch.dropout(x,0.2,train = True)\n",
        "    x = self.fc2(x)\n",
        "    x = torch.softmax(x,dim =1)\n",
        "    return x\n",
        "\n",
        "\n"
      ]
    },
    {
      "cell_type": "code",
      "execution_count": 10,
      "metadata": {
        "colab": {
          "base_uri": "https://localhost:8080/"
        },
        "id": "nxRCNHsXCwdy",
        "outputId": "842188b4-dc13-4328-90fb-635ec4880bae"
      },
      "outputs": [
        {
          "data": {
            "text/plain": [
              "MyModel(\n",
              "  (fc1): Linear(in_features=784, out_features=128, bias=True)\n",
              "  (fc2): Linear(in_features=128, out_features=10, bias=True)\n",
              ")"
            ]
          },
          "execution_count": 10,
          "metadata": {},
          "output_type": "execute_result"
        }
      ],
      "source": [
        "device = torch.device('cuda')\n",
        "model = MyModel()\n",
        "model = model.to(device)\n",
        "model.train(True)\n"
      ]
    },
    {
      "cell_type": "code",
      "execution_count": 11,
      "metadata": {
        "id": "brJ7bCnPDDDB"
      },
      "outputs": [],
      "source": [
        "batch_size = 64\n",
        "epochs = 25\n",
        "config.learning_rate = 0.001\n",
        "lr = config.learning_rate\n"
      ]
    },
    {
      "cell_type": "code",
      "execution_count": null,
      "metadata": {
        "id": "sxr-U-ulDP-F"
      },
      "outputs": [],
      "source": [
        "transform = torchvision.transforms.Compose([\n",
        "    torchvision.transforms.ToTensor(),\n",
        "    torchvision.transforms.Normalize((0),(1))\n",
        "])\n",
        "\n",
        "dataset = torchvision.datasets.FashionMNIST('./dataset/',train = True, download = True , transform = transform)\n",
        "train_data_loader = torch.utils.data.DataLoader(dataset, batch_size = batch_size , shuffle = True)\n"
      ]
    },
    {
      "cell_type": "code",
      "execution_count": 13,
      "metadata": {
        "id": "ExUlOFtOEWhf"
      },
      "outputs": [],
      "source": [
        "optimizer = torch.optim.Adam (model.parameters(),lr = lr)\n",
        "loss_function = torch.nn.CrossEntropyLoss()"
      ]
    },
    {
      "cell_type": "code",
      "execution_count": 14,
      "metadata": {
        "colab": {
          "base_uri": "https://localhost:8080/"
        },
        "id": "5pVnvYdsEnnr",
        "outputId": "9678806e-fdcc-4337-9df2-fb4751d9a841"
      },
      "outputs": [
        {
          "name": "stdout",
          "output_type": "stream",
          "text": [
            "Epoch:1 , Loss:1.7069265842437744 , Accuracy:0.7726212686567164\n",
            "Epoch:2 , Loss:1.6316126585006714 , Accuracy:0.8364372334754797\n",
            "Epoch:3 , Loss:1.6176263093948364 , Accuracy:0.8474480277185501\n",
            "Epoch:4 , Loss:1.6102566719055176 , Accuracy:0.8542277452025586\n",
            "Epoch:5 , Loss:1.604295015335083 , Accuracy:0.8599913379530917\n",
            "Epoch:6 , Loss:1.6001436710357666 , Accuracy:0.8638059701492538\n",
            "Epoch:7 , Loss:1.5961575508117676 , Accuracy:0.8667710554371002\n",
            "Epoch:8 , Loss:1.5935307741165161 , Accuracy:0.869086487206823\n",
            "Epoch:9 , Loss:1.5900540351867676 , Accuracy:0.8731176705756929\n",
            "Epoch:10 , Loss:1.588216781616211 , Accuracy:0.874816764392324\n",
            "Epoch:11 , Loss:1.5860477685928345 , Accuracy:0.876715751599147\n",
            "Epoch:12 , Loss:1.5825117826461792 , Accuracy:0.8804137793176973\n",
            "Epoch:13 , Loss:1.5820209980010986 , Accuracy:0.8804470948827292\n",
            "Epoch:14 , Loss:1.5805126428604126 , Accuracy:0.8819962686567164\n",
            "Epoch:15 , Loss:1.5801622867584229 , Accuracy:0.8817464019189766\n",
            "Epoch:16 , Loss:1.575901985168457 , Accuracy:0.8863772654584221\n",
            "Epoch:17 , Loss:1.5768126249313354 , Accuracy:0.8852445362473348\n",
            "Epoch:18 , Loss:1.5751440525054932 , Accuracy:0.8871435234541578\n",
            "Epoch:19 , Loss:1.5725663900375366 , Accuracy:0.8897754530916844\n",
            "Epoch:20 , Loss:1.5724544525146484 , Accuracy:0.8893756663113006\n",
            "Epoch:21 , Loss:1.5714884996414185 , Accuracy:0.8910581023454157\n",
            "Epoch:22 , Loss:1.5709413290023804 , Accuracy:0.8909081823027718\n",
            "Epoch:23 , Loss:1.5705792903900146 , Accuracy:0.8912746535181236\n",
            "Epoch:24 , Loss:1.5696406364440918 , Accuracy:0.8919076492537313\n",
            "Epoch:25 , Loss:1.5683503150939941 , Accuracy:0.8937899786780383\n"
          ]
        }
      ],
      "source": [
        "for epoch in range(epochs):\n",
        "\n",
        "  train_loss = 0.0\n",
        "  train_acc = 0.0 \n",
        "\n",
        "  for images , labels in train_data_loader:\n",
        "    images = images.to(device)\n",
        "    labels = labels.to(device)\n",
        "    optimizer.zero_grad()\n",
        "\n",
        "    preds =model(images)\n",
        "    loss = loss_function(preds , labels)\n",
        "    loss.backward()\n",
        "\n",
        "    optimizer.step()\n",
        "\n",
        "    train_loss += loss\n",
        "    train_acc += calc_acc(preds , labels)\n",
        "\n",
        "  total_loss =train_loss/len(train_data_loader)\n",
        "  total_acc = train_acc/len(train_data_loader)\n",
        "\n",
        "  print(f'Epoch:{epoch+1} , Loss:{total_loss} , Accuracy:{total_acc}')  \n",
        "\n"
      ]
    },
    {
      "cell_type": "code",
      "execution_count": 15,
      "metadata": {
        "id": "ZDb5AzQkTNLb"
      },
      "outputs": [],
      "source": [
        "torch.save(model.state_dict(),\"weights.pth\")"
      ]
    },
    {
      "cell_type": "code",
      "execution_count": 16,
      "metadata": {
        "colab": {
          "base_uri": "https://localhost:8080/"
        },
        "id": "bFVhCGp3H9XR",
        "outputId": "4be530ce-a777-42e2-e71e-7b4cf429057a"
      },
      "outputs": [
        {
          "data": {
            "text/plain": [
              "9"
            ]
          },
          "execution_count": 16,
          "metadata": {},
          "output_type": "execute_result"
        }
      ],
      "source": [
        "import cv2 \n",
        "import numpy as np\n",
        "\n",
        "\n",
        "model.eval()\n",
        "\n",
        "#ankle boot image : class number = 9\n",
        "image =cv2.imread('/content/image.jpg')\n",
        "image = cv2.cvtColor(image , cv2.COLOR_BGR2GRAY)\n",
        "image = cv2.resize(image , (28,28))\n",
        "tensor = transform (image).unsqueeze(0).to(device)\n",
        "\n",
        "preds = model(tensor)\n",
        "\n",
        "preds = preds.cpu().detach().numpy()\n",
        "output = np.argmax(preds)\n",
        "output"
      ]
    }
  ],
  "metadata": {
    "accelerator": "GPU",
    "colab": {
      "provenance": []
    },
    "kernelspec": {
      "display_name": "Python 3.8.9 64-bit",
      "language": "python",
      "name": "python3"
    },
    "language_info": {
      "name": "python",
      "version": "3.8.9"
    },
    "vscode": {
      "interpreter": {
        "hash": "ff0d91300876931207232d01add3156fa7c8214350996c757a3c6cebc4b3b5d5"
      }
    }
  },
  "nbformat": 4,
  "nbformat_minor": 0
}
