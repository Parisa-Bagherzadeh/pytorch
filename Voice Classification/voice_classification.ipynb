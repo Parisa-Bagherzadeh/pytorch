{
 "cells": [
  {
   "cell_type": "code",
   "execution_count": 96,
   "metadata": {},
   "outputs": [],
   "source": [
    "import os\n",
    "import torch\n",
    "import torch.nn as nn\n",
    "import torch.nn.functional as F\n",
    "from torch.utils.data import Dataset\n",
    "import torchaudio\n",
    "\n",
    "\n",
    "import numpy as np\n",
    "from tqdm import tqdm\n",
    "import matplotlib.pyplot as plt\n"
   ]
  },
  {
   "cell_type": "code",
   "execution_count": 97,
   "metadata": {},
   "outputs": [
    {
     "name": "stdout",
     "output_type": "stream",
     "text": [
      "cpu\n"
     ]
    }
   ],
   "source": [
    "device = torch.device('cuda' if torch.cuda.is_available() else 'cpu')\n",
    "print(device)"
   ]
  },
  {
   "cell_type": "code",
   "execution_count": 98,
   "metadata": {},
   "outputs": [],
   "source": [
    "#Hyper parameters\n",
    "\n",
    "epochs = 75\n",
    "lr = 0.001\n",
    "batch_size = 16\n",
    "\n",
    "\n"
   ]
  },
  {
   "cell_type": "code",
   "execution_count": 99,
   "metadata": {},
   "outputs": [],
   "source": [
    "class VoiceDataset(Dataset):\n",
    "    def __init__(self, root):\n",
    "        self.dir_path = root\n",
    "        self.classes = os.listdir(self.dir_path)\n",
    "\n",
    "        print(self.classes)\n",
    "\n",
    "        self.data_path = []\n",
    "        self.labels = []\n",
    "\n",
    "        for root, dirs, files in os.walk(self.dir_path):\n",
    "            for file in files:\n",
    "                label = os.path.basename(root)\n",
    "                data_path = os.path.join(root, file)\n",
    "                self.data_path.append(data_path)\n",
    "                self.labels.append(self.classes.index(label))\n",
    "          \n",
    "\n",
    "        print(f'{len(self.labels)} data loaded from {len(set(self.labels))} classes')        \n",
    "\n",
    "    def __len__(self):\n",
    "        return len(self.labels)\n",
    "\n",
    "    def __getitem__(self, index):\n",
    "        data_path = self.data_path[index]\n",
    "        label = self.labels[index]\n",
    "        \n",
    "        signal, sample_rate = torchaudio.load(data_path)\n",
    "        signal = torch.mean(signal, dim = 0, keepdim = True)\n",
    "        transform = torchaudio.transforms.Resample(sample_rate, 8000)\n",
    "        signal = transform(signal)\n",
    "\n",
    "        return signal, label\n"
   ]
  },
  {
   "cell_type": "code",
   "execution_count": 100,
   "metadata": {},
   "outputs": [
    {
     "name": "stdout",
     "output_type": "stream",
     "text": [
      "['alireza', 'amir', 'benyamin', 'hossein', 'maryam', 'mohammad', 'morteza', 'nahid', 'parisa', 'zahra', 'zeynab']\n",
      "1355 data loaded from 11 classes\n"
     ]
    }
   ],
   "source": [
    "dataset = VoiceDataset('dataset')"
   ]
  },
  {
   "cell_type": "code",
   "execution_count": 101,
   "metadata": {},
   "outputs": [
    {
     "name": "stdout",
     "output_type": "stream",
     "text": [
      "Train_size : 1084 ,  Test_size : 271\n"
     ]
    }
   ],
   "source": [
    "train_size = int(len(dataset)* 0.8)\n",
    "test_size = len(dataset) - train_size\n",
    "print(f'Train_size : {train_size} , ',f'Test_size : {test_size}')"
   ]
  },
  {
   "cell_type": "code",
   "execution_count": 102,
   "metadata": {},
   "outputs": [],
   "source": [
    "train_dataset, test_dataset = torch.utils.data.random_split(dataset, [train_size,test_size])\n",
    "\n",
    "train_data_loader = torch.utils.data.DataLoader(train_dataset, batch_size = batch_size, shuffle = True)\n",
    "test_data_loader = torch.utils.data.DataLoader(test_dataset, batch_size = batch_size, shuffle = True)"
   ]
  },
  {
   "cell_type": "code",
   "execution_count": 103,
   "metadata": {},
   "outputs": [],
   "source": [
    "class M5(nn.Module):\n",
    "    def __init__(self, n_input=1, n_output=35, stride=16, n_channel=32):\n",
    "        super().__init__()\n",
    "        self.conv1 = nn.Conv1d(n_input, n_channel, kernel_size=80, stride=stride)\n",
    "        self.bn1 = nn.BatchNorm1d(n_channel)\n",
    "        self.pool1 = nn.MaxPool1d(4)\n",
    "        self.conv2 = nn.Conv1d(n_channel, n_channel, kernel_size=3)\n",
    "        self.bn2 = nn.BatchNorm1d(n_channel)\n",
    "        self.pool2 = nn.MaxPool1d(4)\n",
    "        self.conv3 = nn.Conv1d(n_channel, 2 * n_channel, kernel_size=3)\n",
    "        self.bn3 = nn.BatchNorm1d(2 * n_channel)\n",
    "        self.pool3 = nn.MaxPool1d(4)\n",
    "        self.conv4 = nn.Conv1d(2 * n_channel, 2 * n_channel, kernel_size=3)\n",
    "        self.bn4 = nn.BatchNorm1d(2 * n_channel)\n",
    "        self.pool4 = nn.MaxPool1d(4)\n",
    "        self.fc1 = nn.Linear(2 * n_channel, n_output)\n",
    "\n",
    "\n",
    "    def forward(self, x):\n",
    "        x = self.conv1(x)\n",
    "        x = F.relu(self.bn1(x))\n",
    "        x = self.pool1(x)\n",
    "        x = self.conv2(x)\n",
    "        x = F.relu(self.bn2(x))\n",
    "        x = self.pool2(x)\n",
    "        x = self.conv3(x)\n",
    "        x = F.relu(self.bn3(x))\n",
    "        x = self.pool3(x)\n",
    "        x = self.conv4(x)\n",
    "        x = F.relu(self.bn4(x))\n",
    "        x = self.pool4(x)\n",
    "        x = F.avg_pool1d(x, x.shape[-1])\n",
    "        x = torch.flatten(x, start_dim = 1)\n",
    "        x = self.fc1(x)\n",
    "        x = F.softmax(x, dim = 1)\n",
    "        return x\n",
    "\n",
    "    def accuracy(self, preds, labels):\n",
    "        maxs, indices = torch.max(preds, 1)\n",
    "        acc = torch.sum(indices == labels) / len(preds)\n",
    "        return acc.cpu()\n",
    "            "
   ]
  },
  {
   "cell_type": "code",
   "execution_count": 104,
   "metadata": {},
   "outputs": [
    {
     "name": "stdout",
     "output_type": "stream",
     "text": [
      "M5(\n",
      "  (conv1): Conv1d(1, 32, kernel_size=(80,), stride=(16,))\n",
      "  (bn1): BatchNorm1d(32, eps=1e-05, momentum=0.1, affine=True, track_running_stats=True)\n",
      "  (pool1): MaxPool1d(kernel_size=4, stride=4, padding=0, dilation=1, ceil_mode=False)\n",
      "  (conv2): Conv1d(32, 32, kernel_size=(3,), stride=(1,))\n",
      "  (bn2): BatchNorm1d(32, eps=1e-05, momentum=0.1, affine=True, track_running_stats=True)\n",
      "  (pool2): MaxPool1d(kernel_size=4, stride=4, padding=0, dilation=1, ceil_mode=False)\n",
      "  (conv3): Conv1d(32, 64, kernel_size=(3,), stride=(1,))\n",
      "  (bn3): BatchNorm1d(64, eps=1e-05, momentum=0.1, affine=True, track_running_stats=True)\n",
      "  (pool3): MaxPool1d(kernel_size=4, stride=4, padding=0, dilation=1, ceil_mode=False)\n",
      "  (conv4): Conv1d(64, 64, kernel_size=(3,), stride=(1,))\n",
      "  (bn4): BatchNorm1d(64, eps=1e-05, momentum=0.1, affine=True, track_running_stats=True)\n",
      "  (pool4): MaxPool1d(kernel_size=4, stride=4, padding=0, dilation=1, ceil_mode=False)\n",
      "  (fc1): Linear(in_features=64, out_features=11, bias=True)\n",
      ")\n",
      "Number of parameters: 25355\n"
     ]
    }
   ],
   "source": [
    "model = M5(n_output = 11).to(device)\n",
    "print(model)\n",
    "\n",
    "n = sum(p.numel() for p in model.parameters() if p.requires_grad)\n",
    "print(\"Number of parameters: %s\" %n)\n"
   ]
  },
  {
   "cell_type": "code",
   "execution_count": 105,
   "metadata": {},
   "outputs": [],
   "source": [
    "optimizer = torch.optim.Adam(model.parameters(), lr = lr)\n",
    "loss_function = nn.CrossEntropyLoss()\n"
   ]
  },
  {
   "cell_type": "code",
   "execution_count": 106,
   "metadata": {},
   "outputs": [
    {
     "name": "stdout",
     "output_type": "stream",
     "text": [
      "Epoch : 0, Loss : 2.3141930103302, Accuracy : 0.2705269753932953\n",
      "Epoch : 10, Loss : 1.8498220443725586, Accuracy : 0.7113970518112183\n",
      "Epoch : 20, Loss : 1.7521463632583618, Accuracy : 0.805759847164154\n",
      "Epoch : 30, Loss : 1.637529730796814, Accuracy : 0.9276960492134094\n",
      "Epoch : 40, Loss : 1.605129599571228, Accuracy : 0.953125\n",
      "Epoch : 50, Loss : 1.5905132293701172, Accuracy : 0.9623161554336548\n",
      "Epoch : 60, Loss : 1.5764187574386597, Accuracy : 0.9742646813392639\n",
      "Epoch : 70, Loss : 1.5785526037216187, Accuracy : 0.9724264740943909\n"
     ]
    },
    {
     "data": {
      "text/plain": [
       "<function matplotlib.pyplot.plot(*args, scalex=True, scaley=True, data=None, **kwargs)>"
      ]
     },
     "execution_count": 106,
     "metadata": {},
     "output_type": "execute_result"
    }
   ],
   "source": [
    "#train\n",
    "\n",
    "model.train()\n",
    "\n",
    "for epoch in range(epochs):\n",
    "    train_loss = 0.0\n",
    "    train_acc = 0.0\n",
    "\n",
    "    for audio, labels in(train_data_loader):\n",
    "        audio,labels = audio.to(device), labels.to(device)\n",
    "        labels_one_hot = torch.nn.functional.one_hot(labels, num_classes = 11).type(torch.FloatTensor).to(device)\n",
    "\n",
    "        optimizer.zero_grad()\n",
    "        preds = model(audio)\n",
    "        loss = loss_function(preds, labels_one_hot)\n",
    "        loss.backward()\n",
    "        optimizer.step()\n",
    "        train_loss += loss\n",
    "        train_acc += model.accuracy(preds, labels)\n",
    "\n",
    "    \n",
    "    total_loss = train_loss / len(train_data_loader)\n",
    "    total_acc = train_acc / len(train_data_loader)\n",
    "\n",
    "    if epoch % 10 == 0 :\n",
    "    \n",
    "        print(f'Epoch : {epoch}, Loss : {total_loss}, Accuracy : {total_acc}')\n",
    "        \n",
    "\n"
   ]
  },
  {
   "cell_type": "code",
   "execution_count": 110,
   "metadata": {},
   "outputs": [
    {
     "name": "stdout",
     "output_type": "stream",
     "text": [
      "Epoch : 74, Loss : 1.661403775215149, Accuracy : 0.8889706134796143\n"
     ]
    }
   ],
   "source": [
    "#evaluation\n",
    "model.eval()\n",
    "\n",
    "\n",
    "test_loss = 0.0\n",
    "test_acc = 0.0\n",
    "\n",
    "for audio, labels in(test_data_loader):\n",
    "    audio,labels = audio.to(device), labels.to(device)\n",
    "    labels_one_hot = torch.nn.functional.one_hot(labels, num_classes = 11).type(torch.FloatTensor).to(device)\n",
    "\n",
    "    \n",
    "    preds = model(audio)\n",
    "    loss = loss_function(preds, labels_one_hot)\n",
    "\n",
    "    test_loss += loss\n",
    "    test_acc += model.accuracy(preds, labels)\n",
    "\n",
    "\n",
    "total_loss = test_loss / len(test_data_loader)\n",
    "total_acc = test_acc / len(test_data_loader)\n",
    "\n",
    "print(f'Epoch : {epoch}, Loss : {total_loss}, Accuracy : {total_acc}')\n",
    "\n",
    "\n",
    "        \n",
    "\n",
    "    "
   ]
  },
  {
   "cell_type": "code",
   "execution_count": 108,
   "metadata": {},
   "outputs": [],
   "source": [
    "torch.save(model.state_dict(), 'weights.pth')"
   ]
  },
  {
   "cell_type": "code",
   "execution_count": 109,
   "metadata": {},
   "outputs": [
    {
     "name": "stdout",
     "output_type": "stream",
     "text": [
      "parisa\n"
     ]
    }
   ],
   "source": [
    "#inference\n",
    "signal, sample_rate = torchaudio.load('input/test.wav')\n",
    "\n",
    "\n",
    "signal = torch.mean(signal, dim = 0, keepdim = True)\n",
    "transform = torchaudio.transforms.Resample(sample_rate, 8000)\n",
    "signal = transform(signal)\n",
    "\n",
    "tensor = signal.unsqueeze(0).to(device)\n",
    "\n",
    "preds = model(tensor)\n",
    "\n",
    "preds = preds.cpu().detach().numpy()\n",
    "\n",
    "labels = ['alireza', 'amir', 'benyamin', 'hossein', 'maryam', 'mohammad', 'morteza', 'nahid', 'parisa', 'zahra', 'zeynab']\n",
    "output = np.argmax(preds)\n",
    "\n",
    "print(labels[output])\n",
    "\n",
    "\n"
   ]
  }
 ],
 "metadata": {
  "kernelspec": {
   "display_name": "Python 3",
   "language": "python",
   "name": "python3"
  },
  "language_info": {
   "codemirror_mode": {
    "name": "ipython",
    "version": 3
   },
   "file_extension": ".py",
   "mimetype": "text/x-python",
   "name": "python",
   "nbconvert_exporter": "python",
   "pygments_lexer": "ipython3",
   "version": "3.8.9 (tags/v3.8.9:a743f81, Apr  6 2021, 14:02:34) [MSC v.1928 64 bit (AMD64)]"
  },
  "orig_nbformat": 4,
  "vscode": {
   "interpreter": {
    "hash": "ff0d91300876931207232d01add3156fa7c8214350996c757a3c6cebc4b3b5d5"
   }
  }
 },
 "nbformat": 4,
 "nbformat_minor": 2
}
