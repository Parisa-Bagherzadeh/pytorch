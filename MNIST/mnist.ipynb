{
  "nbformat": 4,
  "nbformat_minor": 0,
  "metadata": {
    "colab": {
      "name": "mnist.ipynb",
      "provenance": []
    },
    "kernelspec": {
      "name": "python3",
      "display_name": "Python 3"
    },
    "language_info": {
      "name": "python"
    },
    "accelerator": "GPU",
    "gpuClass": "standard"
  },
  "cells": [
    {
      "cell_type": "code",
      "execution_count": 54,
      "metadata": {
        "id": "aUTzozfB05zM"
      },
      "outputs": [],
      "source": [
        "import torch\n",
        "import torchvision\n"
      ]
    },
    {
      "cell_type": "code",
      "source": [
        "def calc_acc(pred,labels):\n",
        "  _,pred_max=torch.max(preds,1)\n",
        "  accuracy=torch.sum(pred_max==labels.data,dtype=torch.float64)/len(preds)\n",
        "  return accuracy"
      ],
      "metadata": {
        "id": "ZHiIgBFAJQHa"
      },
      "execution_count": 55,
      "outputs": []
    },
    {
      "cell_type": "code",
      "source": [
        "\n",
        "class MyModel(torch.nn.Module):\n",
        "  def __init__(self):\n",
        "    super().__init__()\n",
        "\n",
        "    #fully connected(dense) layer definition\n",
        "\n",
        "    #mnist images size=28*28=784\n",
        "    #128=number of output nerouns\n",
        "    self.fc1=torch.nn.Linear(784,128)\n",
        "    #previous output layer=next input layer\n",
        "    #mnist has 10 output\n",
        "    self.fc2=torch.nn.Linear(128,10)\n",
        "\n",
        "  #model structure in forward method\n",
        "  def forward(self,x):\n",
        "    #x.shape[0]=batch_size\n",
        "    #784=28*28\n",
        "    #instead of having a 2 dimensional 28*28 matrice , we have a vector of size 784\n",
        "    x=x.reshape((x.shape[0],784))\n",
        "    x=self.fc1(x)\n",
        "    x=torch.relu(x)\n",
        "    x=torch.dropout(x,0.2,train=True)\n",
        "    x=self.fc2(x)\n",
        "    x=torch.softmax(x,dim=1)\n",
        "    return x"
      ],
      "metadata": {
        "id": "w2MgHBx9AiGr"
      },
      "execution_count": 56,
      "outputs": []
    },
    {
      "cell_type": "code",
      "source": [
        "device=torch.device(\"cuda\")\n",
        "\n",
        "model=MyModel()\n",
        "model=model.to(device)\n",
        "model.train(True)\n",
        "\n"
      ],
      "metadata": {
        "id": "t2uUSkvTAkbU",
        "colab": {
          "base_uri": "https://localhost:8080/"
        },
        "outputId": "2bec00e1-e54b-4937-91a5-6d02a347f745"
      },
      "execution_count": 57,
      "outputs": [
        {
          "output_type": "execute_result",
          "data": {
            "text/plain": [
              "MyModel(\n",
              "  (fc1): Linear(in_features=784, out_features=128, bias=True)\n",
              "  (fc2): Linear(in_features=128, out_features=10, bias=True)\n",
              ")"
            ]
          },
          "metadata": {},
          "execution_count": 57
        }
      ]
    },
    {
      "cell_type": "code",
      "source": [
        "#Hyper Parameters\n",
        "batch_size=64\n",
        "epochs=10\n",
        "lr=0.001"
      ],
      "metadata": {
        "id": "Qs-kf94VELWA"
      },
      "execution_count": 58,
      "outputs": []
    },
    {
      "cell_type": "code",
      "source": [
        "#Data Preparing\n",
        "\n",
        "transform=torchvision.transforms.Compose([\n",
        "            torchvision.transforms.ToTensor(),\n",
        "            torchvision.transforms.Normalize((0),(1))      \n",
        "])\n",
        "\n",
        "dataset=torchvision.datasets.MNIST(\"./datasets\",train=True,download=True,transform=transform)\n",
        "train_data_loader=torch.utils.data.DataLoader(dataset,batch_size=batch_size,shuffle=True)"
      ],
      "metadata": {
        "id": "PqZzpZbE4-WW"
      },
      "execution_count": 59,
      "outputs": []
    },
    {
      "cell_type": "code",
      "source": [
        "#Model Compile\n",
        "optimizer=torch.optim.Adam(model.parameters(),lr=lr)\n",
        "loss_function=torch.nn.CrossEntropyLoss()\n"
      ],
      "metadata": {
        "id": "qY-jZRRZBzLl"
      },
      "execution_count": 60,
      "outputs": []
    },
    {
      "cell_type": "code",
      "source": [
        "#Train\n",
        "\n",
        "for epoch in range(epochs):\n",
        "  train_loss=0.0\n",
        "  train_acc=0.0\n",
        "  for images,labels in train_data_loader:\n",
        "    images=images.to(device)\n",
        "    labels=labels.to(device)\n",
        "    optimizer.zero_grad()\n",
        "\n",
        "    #1-forwarding\n",
        "    preds=model(images)\n",
        "    \n",
        "\n",
        "    #2-backwarding\n",
        "    loss=loss_function(preds,labels)\n",
        "    loss.backward()\n",
        "\n",
        "    #3-update\n",
        "    optimizer.step()\n",
        "\n",
        "    train_loss+=loss\n",
        "    train_acc+=calc_acc(preds,labels)\n",
        "\n",
        "\n",
        "\n",
        "  total_loss=train_loss/len(train_data_loader)\n",
        "  total_acc=train_acc/len(train_data_loader)\n",
        "\n",
        "  print(f\"Epoch:{epoch+1},Loss{total_loss},Acc:{total_acc}\")    \n",
        "    \n",
        "\n",
        "\n"
      ],
      "metadata": {
        "colab": {
          "base_uri": "https://localhost:8080/"
        },
        "id": "J12NkOLoDCiX",
        "outputId": "5bf662fb-16cc-4cbd-e2ab-15dcc0a0a02c"
      },
      "execution_count": 61,
      "outputs": [
        {
          "output_type": "stream",
          "name": "stdout",
          "text": [
            "Epoch:1,Loss1.6164474487304688,Acc:0.8704690831556503\n",
            "Epoch:2,Loss1.538353443145752,Acc:0.9309534914712153\n",
            "Epoch:3,Loss1.5219826698303223,Acc:0.9455956823027718\n",
            "Epoch:4,Loss1.5114009380340576,Acc:0.9544576226012793\n",
            "Epoch:5,Loss1.5048885345458984,Acc:0.960954157782516\n",
            "Epoch:6,Loss1.4992691278457642,Acc:0.9657182835820896\n",
            "Epoch:7,Loss1.4955576658248901,Acc:0.9692997068230277\n",
            "Epoch:8,Loss1.4925240278244019,Acc:0.9718150319829424\n",
            "Epoch:9,Loss1.4903918504714966,Acc:0.9734974680170575\n",
            "Epoch:10,Loss1.488181710243225,Acc:0.9757129530916844\n"
          ]
        }
      ]
    },
    {
      "cell_type": "code",
      "source": [
        "#save \n",
        "#model.state_dict()#to see the model weights\n",
        "torch.save(model.state_dict(),\"mnist.pth\") #to save the model weights"
      ],
      "metadata": {
        "id": "45_i0MbxLRXx"
      },
      "execution_count": 64,
      "outputs": []
    },
    {
      "cell_type": "code",
      "source": [
        "#inference\n",
        "import cv2\n",
        "import numpy as np\n",
        "\n",
        "\n",
        "#model.train(False)\n",
        "model.eval()\n",
        "\n",
        "#preprocess\n",
        "img=cv2.imread('7.jpg')\n",
        "img=cv2.cvtColor(img,cv2.COLOR_BGR2GRAY)\n",
        "img=cv2.resize(img,(28,28))\n",
        "tensor=transform(img).unsqueeze(0).to(device)\n",
        "\n",
        "#process\n",
        "preds=model(tensor)\n",
        "\n",
        "#postprocess\n",
        "preds=preds.cpu().detach().numpy()\n",
        "output=np.argmax(preds)\n",
        "output\n"
      ],
      "metadata": {
        "id": "dbC3K2m5BfUx",
        "colab": {
          "base_uri": "https://localhost:8080/"
        },
        "outputId": "6b2046b0-a5ad-4298-b7c9-55d134f6216a"
      },
      "execution_count": 69,
      "outputs": [
        {
          "output_type": "execute_result",
          "data": {
            "text/plain": [
              "7"
            ]
          },
          "metadata": {},
          "execution_count": 69
        }
      ]
    },
    {
      "cell_type": "code",
      "source": [
        ""
      ],
      "metadata": {
        "id": "c_3Ptt7BJD1G"
      },
      "execution_count": 62,
      "outputs": []
    }
  ]
}