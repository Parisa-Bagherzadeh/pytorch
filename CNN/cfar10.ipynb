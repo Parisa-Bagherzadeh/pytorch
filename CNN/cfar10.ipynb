{
  "nbformat": 4,
  "nbformat_minor": 0,
  "metadata": {
    "colab": {
      "provenance": []
    },
    "kernelspec": {
      "name": "python3",
      "display_name": "Python 3"
    },
    "language_info": {
      "name": "python"
    },
    "accelerator": "GPU",
    "gpuClass": "standard"
  },
  "cells": [
    {
      "cell_type": "code",
      "execution_count": 88,
      "metadata": {
        "id": "yOj0_0yLvciF"
      },
      "outputs": [],
      "source": [
        "import torch\n",
        "import torch.nn as nn\n",
        "import torch.nn.functional as F\n",
        "\n",
        "import torchvision\n",
        "import torchvision.transforms as transforms\n",
        "\n",
        "import matplotlib.pyplot as plt\n",
        "import numpy as np"
      ]
    },
    {
      "cell_type": "code",
      "source": [
        "device = torch.device('cuda' if torch.cuda.is_available() else 'cpu')\n"
      ],
      "metadata": {
        "id": "oOfS1Rrxv7Hh"
      },
      "execution_count": 89,
      "outputs": []
    },
    {
      "cell_type": "code",
      "source": [
        "# Hyper parameters\n",
        "epochs = 20\n",
        "batch_size = 4\n",
        "learning_rate = 0.001\n"
      ],
      "metadata": {
        "id": "wLgaFFqqzP0Q"
      },
      "execution_count": 90,
      "outputs": []
    },
    {
      "cell_type": "code",
      "source": [
        "transform = transforms.Compose(\n",
        "                              [transforms.ToTensor(),\n",
        "                               transforms.Normalize((0.5,0.5,0.5),(0.5,0.5,0.5))])"
      ],
      "metadata": {
        "id": "IMHRwHpaza8f"
      },
      "execution_count": 91,
      "outputs": []
    },
    {
      "cell_type": "code",
      "source": [
        "train_dataset = torchvision.datasets.CIFAR10(root = './data' , train = True , download = True , transform = transform)"
      ],
      "metadata": {
        "id": "p5-n2NwB0OJb"
      },
      "execution_count": null,
      "outputs": []
    },
    {
      "cell_type": "code",
      "source": [
        "test_dataset = torchvision.datasets.CIFAR10(root = './data' , train = False , download = True , transform = transform)"
      ],
      "metadata": {
        "id": "sgI__GSs0zWM"
      },
      "execution_count": null,
      "outputs": []
    },
    {
      "cell_type": "code",
      "source": [
        "train_loader = torch.utils.data.DataLoader(train_dataset, batch_size = batch_size , shuffle = True)"
      ],
      "metadata": {
        "id": "kY-Jk-ap1QHi"
      },
      "execution_count": 94,
      "outputs": []
    },
    {
      "cell_type": "code",
      "source": [
        "test_loader = torch.utils.data.DataLoader(test_dataset , batch_size = batch_size , shuffle = False)\n"
      ],
      "metadata": {
        "id": "LZNphlWI19Kv"
      },
      "execution_count": 95,
      "outputs": []
    },
    {
      "cell_type": "code",
      "source": [
        "classes = ('plane','car','bird','cat','deer','dog','frog','horse','ship','truck')\n"
      ],
      "metadata": {
        "id": "tLrC3UDr2qts"
      },
      "execution_count": 96,
      "outputs": []
    },
    {
      "cell_type": "code",
      "source": [
        "class ConvNet(nn.Module):\n",
        "  def __init__ (self):\n",
        "    super().__init__()\n",
        "    self.conv1 = nn.Conv2d(3, 6, 5)\n",
        "    self.pool = nn.MaxPool2d(2, 2)\n",
        "    self.conv2 = nn.Conv2d(6, 16, 5)\n",
        "    self.fc1 = nn.Linear(16 * 5 * 5, 120)\n",
        "    self.fc2 = nn.Linear(120, 84)\n",
        "    self.fc3 = nn.Linear(84, 10)\n",
        "\n",
        "\n",
        "  def forward(self, x):\n",
        " \n",
        "      x = self.pool(F.relu(self.conv1(x)))\n",
        "      x = self.pool(F.relu(self.conv2(x))) \n",
        "      x = torch.flatten(x, 1)     \n",
        "      x = F.relu(self.fc1(x))             \n",
        "      x = F.relu(self.fc2(x))               \n",
        "      x = self.fc3(x)                 \n",
        "      return x\n",
        "\n",
        "\n",
        "\n"
      ],
      "metadata": {
        "id": "4RwiUO4e3Ndr"
      },
      "execution_count": 97,
      "outputs": []
    },
    {
      "cell_type": "code",
      "source": [
        "model = ConvNet().to(device)\n",
        "\n",
        "loss_function = nn.CrossEntropyLoss()\n",
        "optimizer = torch.optim.SGD(model.parameters() , lr = learning_rate)"
      ],
      "metadata": {
        "id": "ElBAw6zq3ZC5"
      },
      "execution_count": 98,
      "outputs": []
    },
    {
      "cell_type": "code",
      "source": [
        "def acc (preds,labels):\n",
        "  _,max_preds = torch.max(preds,1)\n",
        "  accuracy = torch.sum(max_preds == labels.data , dtype = torch.float64) / len(preds)\n",
        "  return accuracy\n",
        "\n"
      ],
      "metadata": {
        "id": "7gifHbZKBHt8"
      },
      "execution_count": 99,
      "outputs": []
    },
    {
      "cell_type": "code",
      "source": [
        "for epoch in range (epochs):\n",
        "\n",
        "  train_loss = 0.0\n",
        "  train_acc = 0.0\n",
        "\n",
        "  for images,labels in train_loader:\n",
        "    images = images.to(device)\n",
        "    labels = labels.to(device)\n",
        "\n",
        "    outputs= model(images)\n",
        "    loss = loss_function(outputs, labels)\n",
        "\n",
        "    optimizer.zero_grad()\n",
        "    loss.backward()\n",
        "    optimizer.step()\n",
        "    \n",
        "    train_loss += loss\n",
        "    train_acc += acc(outputs,labels)\n",
        "  \n",
        "  total_loss = train_loss / len(train_loader)\n",
        "  train_acc = train_acc / len(train_loader)\n",
        "\n",
        "  print(f'Epoch : {epoch+1} , Loss : {total_loss:.4f} , Accuracy : {train_acc:.4f}')\n",
        "\n",
        "\n"
      ],
      "metadata": {
        "colab": {
          "base_uri": "https://localhost:8080/"
        },
        "id": "G5MJnDSZ4wdL",
        "outputId": "2f224525-e87e-4698-a2f3-274bd569f068"
      },
      "execution_count": 100,
      "outputs": [
        {
          "output_type": "stream",
          "name": "stdout",
          "text": [
            "Epoch : 1 , Loss : 2.2986 , Accuracy : 0.1286\n",
            "Epoch : 2 , Loss : 2.0439 , Accuracy : 0.2595\n",
            "Epoch : 3 , Loss : 1.7270 , Accuracy : 0.3645\n",
            "Epoch : 4 , Loss : 1.5896 , Accuracy : 0.4174\n",
            "Epoch : 5 , Loss : 1.4931 , Accuracy : 0.4569\n",
            "Epoch : 6 , Loss : 1.4133 , Accuracy : 0.4891\n",
            "Epoch : 7 , Loss : 1.3451 , Accuracy : 0.5156\n",
            "Epoch : 8 , Loss : 1.2924 , Accuracy : 0.5366\n",
            "Epoch : 9 , Loss : 1.2448 , Accuracy : 0.5574\n",
            "Epoch : 10 , Loss : 1.2047 , Accuracy : 0.5721\n",
            "Epoch : 11 , Loss : 1.1677 , Accuracy : 0.5852\n",
            "Epoch : 12 , Loss : 1.1348 , Accuracy : 0.5974\n",
            "Epoch : 13 , Loss : 1.1056 , Accuracy : 0.6081\n",
            "Epoch : 14 , Loss : 1.0767 , Accuracy : 0.6211\n",
            "Epoch : 15 , Loss : 1.0520 , Accuracy : 0.6293\n",
            "Epoch : 16 , Loss : 1.0278 , Accuracy : 0.6374\n",
            "Epoch : 17 , Loss : 1.0048 , Accuracy : 0.6463\n",
            "Epoch : 18 , Loss : 0.9820 , Accuracy : 0.6535\n",
            "Epoch : 19 , Loss : 0.9627 , Accuracy : 0.6607\n",
            "Epoch : 20 , Loss : 0.9427 , Accuracy : 0.6691\n"
          ]
        }
      ]
    }
  ]
}