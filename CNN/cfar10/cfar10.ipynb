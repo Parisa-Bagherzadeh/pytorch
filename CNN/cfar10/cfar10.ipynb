{
  "cells": [
    {
      "cell_type": "code",
      "execution_count": 1,
      "metadata": {
        "id": "yOj0_0yLvciF"
      },
      "outputs": [],
      "source": [
        "import torch\n",
        "import torch.nn as nn\n",
        "import torch.nn.functional as F\n",
        "\n",
        "import torchvision\n",
        "import torchvision.transforms as transforms\n",
        "\n",
        "import matplotlib.pyplot as plt\n",
        "import numpy as np"
      ]
    },
    {
      "cell_type": "code",
      "execution_count": 2,
      "metadata": {
        "id": "oOfS1Rrxv7Hh"
      },
      "outputs": [],
      "source": [
        "device = torch.device('cuda' if torch.cuda.is_available() else 'cpu')\n"
      ]
    },
    {
      "cell_type": "code",
      "execution_count": 3,
      "metadata": {
        "id": "wLgaFFqqzP0Q"
      },
      "outputs": [],
      "source": [
        "# Hyper parameters\n",
        "epochs = 50\n",
        "batch_size = 4\n",
        "learning_rate = 0.001\n"
      ]
    },
    {
      "cell_type": "code",
      "execution_count": 4,
      "metadata": {
        "id": "IMHRwHpaza8f"
      },
      "outputs": [],
      "source": [
        "transform = transforms.Compose(\n",
        "                              [transforms.ToTensor(),\n",
        "                               transforms.Normalize((0.5,0.5,0.5),(0.5,0.5,0.5))])"
      ]
    },
    {
      "cell_type": "code",
      "execution_count": 5,
      "metadata": {
        "colab": {
          "base_uri": "https://localhost:8080/",
          "height": 85,
          "referenced_widgets": [
            "7cec8bee721d466c884b521902a17dcc",
            "d206029367754d8c92c3a93f4126af29",
            "5b9f138364cd42dd9f12c4b25126be7c",
            "bbe40400cb194aaea13aa411838abbc7",
            "63daf51a0732431782a63b9bd2fa6598",
            "aef66ccbcc2a4f629abba3c5e650b63f",
            "05c9f227202641d1b3035f298b8a0dbb",
            "00c79c0926714deeb3c54286c5b5a079",
            "6b308d8587f84edba7a9d524b0a9f3e6",
            "8f9e3c0bb30d4fe48f6dc36d65a3e957",
            "06fd5488fc144e148d1dc686dd4c9866"
          ]
        },
        "id": "p5-n2NwB0OJb",
        "outputId": "d700c465-e35b-47a5-9b3b-c5851d02df9f"
      },
      "outputs": [
        {
          "name": "stdout",
          "output_type": "stream",
          "text": [
            "Downloading https://www.cs.toronto.edu/~kriz/cifar-10-python.tar.gz to ./data/cifar-10-python.tar.gz\n"
          ]
        },
        {
          "data": {
            "application/vnd.jupyter.widget-view+json": {
              "model_id": "7cec8bee721d466c884b521902a17dcc",
              "version_major": 2,
              "version_minor": 0
            },
            "text/plain": [
              "  0%|          | 0/170498071 [00:00<?, ?it/s]"
            ]
          },
          "metadata": {},
          "output_type": "display_data"
        },
        {
          "name": "stdout",
          "output_type": "stream",
          "text": [
            "Extracting ./data/cifar-10-python.tar.gz to ./data\n"
          ]
        }
      ],
      "source": [
        "train_dataset = torchvision.datasets.CIFAR10(root = './data' , train = True , download = True , transform = transform)"
      ]
    },
    {
      "cell_type": "code",
      "execution_count": 6,
      "metadata": {
        "colab": {
          "base_uri": "https://localhost:8080/"
        },
        "id": "sgI__GSs0zWM",
        "outputId": "8270ce55-5444-43d9-ac9a-f41bc3373eec"
      },
      "outputs": [
        {
          "name": "stdout",
          "output_type": "stream",
          "text": [
            "Files already downloaded and verified\n"
          ]
        }
      ],
      "source": [
        "test_dataset = torchvision.datasets.CIFAR10(root = './data' , train = False , download = True , transform = transform)"
      ]
    },
    {
      "cell_type": "code",
      "execution_count": 7,
      "metadata": {
        "id": "kY-Jk-ap1QHi"
      },
      "outputs": [],
      "source": [
        "train_loader = torch.utils.data.DataLoader(train_dataset, batch_size = batch_size , shuffle = True)"
      ]
    },
    {
      "cell_type": "code",
      "execution_count": 8,
      "metadata": {
        "id": "LZNphlWI19Kv"
      },
      "outputs": [],
      "source": [
        "test_loader = torch.utils.data.DataLoader(test_dataset , batch_size = batch_size , shuffle = False)\n"
      ]
    },
    {
      "cell_type": "code",
      "execution_count": 9,
      "metadata": {
        "id": "tLrC3UDr2qts"
      },
      "outputs": [],
      "source": [
        "classes = ('plane','car','bird','cat','deer','dog','frog','horse','ship','truck')\n"
      ]
    },
    {
      "cell_type": "code",
      "execution_count": 14,
      "metadata": {
        "id": "4RwiUO4e3Ndr"
      },
      "outputs": [],
      "source": [
        "class ConvNet(nn.Module):\n",
        "  def __init__ (self):\n",
        "    super().__init__()\n",
        "    self.conv1 = nn.Conv2d(3, 6, 5)\n",
        "    self.pool = nn.MaxPool2d(2, 2)\n",
        "    self.conv2 = nn.Conv2d(6, 16, 5)\n",
        "    self.fc1 = nn.Linear(16 * 5 * 5, 120)\n",
        "    self.fc2 = nn.Linear(120, 84)\n",
        "    self.fc3 = nn.Linear(84, 10)\n",
        "\n",
        "\n",
        "  def forward(self, x):\n",
        " \n",
        "      x = self.pool(F.relu(self.conv1(x)))\n",
        "      x = self.pool(F.relu(self.conv2(x))) \n",
        "      x = torch.flatten(x, 1)     \n",
        "      x = F.relu(self.fc1(x))             \n",
        "      x = F.relu(self.fc2(x))               \n",
        "      x = self.fc3(x)                 \n",
        "      return x\n",
        "\n",
        "\n",
        "\n"
      ]
    },
    {
      "cell_type": "code",
      "execution_count": 15,
      "metadata": {
        "id": "ElBAw6zq3ZC5"
      },
      "outputs": [],
      "source": [
        "model = ConvNet().to(device)\n",
        "\n",
        "loss_function = nn.CrossEntropyLoss()\n",
        "optimizer = torch.optim.Adam(model.parameters() , lr = learning_rate)"
      ]
    },
    {
      "cell_type": "code",
      "execution_count": 16,
      "metadata": {
        "id": "7gifHbZKBHt8"
      },
      "outputs": [],
      "source": [
        "def acc (preds,labels):\n",
        "  _,max_preds = torch.max(preds,1)\n",
        "  accuracy = torch.sum(max_preds == labels.data , dtype = torch.float64) / len(preds)\n",
        "  return accuracy\n",
        "\n"
      ]
    },
    {
      "cell_type": "code",
      "execution_count": 17,
      "metadata": {
        "colab": {
          "base_uri": "https://localhost:8080/"
        },
        "id": "G5MJnDSZ4wdL",
        "outputId": "856494e7-6540-4272-b45c-59aff54af083"
      },
      "outputs": [
        {
          "name": "stdout",
          "output_type": "stream",
          "text": [
            "Epoch : 1 , Loss : 1.5378 , Accuracy : 0.4388\n",
            "Epoch : 2 , Loss : 1.2726 , Accuracy : 0.5472\n",
            "Epoch : 3 , Loss : 1.1662 , Accuracy : 0.5878\n",
            "Epoch : 4 , Loss : 1.1037 , Accuracy : 0.6113\n",
            "Epoch : 5 , Loss : 1.0519 , Accuracy : 0.6281\n",
            "Epoch : 6 , Loss : 1.0195 , Accuracy : 0.6426\n",
            "Epoch : 7 , Loss : 0.9883 , Accuracy : 0.6531\n",
            "Epoch : 8 , Loss : 0.9600 , Accuracy : 0.6644\n",
            "Epoch : 9 , Loss : 0.9414 , Accuracy : 0.6675\n",
            "Epoch : 10 , Loss : 0.9182 , Accuracy : 0.6763\n",
            "Epoch : 11 , Loss : 0.9079 , Accuracy : 0.6810\n",
            "Epoch : 12 , Loss : 0.8873 , Accuracy : 0.6892\n",
            "Epoch : 13 , Loss : 0.8819 , Accuracy : 0.6920\n",
            "Epoch : 14 , Loss : 0.8663 , Accuracy : 0.6988\n",
            "Epoch : 15 , Loss : 0.8494 , Accuracy : 0.7042\n",
            "Epoch : 16 , Loss : 0.8430 , Accuracy : 0.7060\n",
            "Epoch : 17 , Loss : 0.8340 , Accuracy : 0.7072\n",
            "Epoch : 18 , Loss : 0.8245 , Accuracy : 0.7127\n",
            "Epoch : 19 , Loss : 0.8079 , Accuracy : 0.7180\n",
            "Epoch : 20 , Loss : 0.8130 , Accuracy : 0.7187\n",
            "Epoch : 21 , Loss : 0.7992 , Accuracy : 0.7230\n",
            "Epoch : 22 , Loss : 0.7935 , Accuracy : 0.7256\n",
            "Epoch : 23 , Loss : 0.7888 , Accuracy : 0.7297\n",
            "Epoch : 24 , Loss : 0.7747 , Accuracy : 0.7336\n",
            "Epoch : 25 , Loss : 0.7687 , Accuracy : 0.7350\n",
            "Epoch : 26 , Loss : 0.7577 , Accuracy : 0.7377\n",
            "Epoch : 27 , Loss : 0.7633 , Accuracy : 0.7373\n",
            "Epoch : 28 , Loss : 0.7574 , Accuracy : 0.7408\n",
            "Epoch : 29 , Loss : 0.7406 , Accuracy : 0.7437\n",
            "Epoch : 30 , Loss : 0.7424 , Accuracy : 0.7450\n",
            "Epoch : 31 , Loss : 0.7208 , Accuracy : 0.7520\n",
            "Epoch : 32 , Loss : 0.7337 , Accuracy : 0.7488\n",
            "Epoch : 33 , Loss : 0.7368 , Accuracy : 0.7487\n",
            "Epoch : 34 , Loss : 0.7244 , Accuracy : 0.7527\n",
            "Epoch : 35 , Loss : 0.7224 , Accuracy : 0.7555\n",
            "Epoch : 36 , Loss : 0.7311 , Accuracy : 0.7522\n",
            "Epoch : 37 , Loss : 0.7151 , Accuracy : 0.7587\n",
            "Epoch : 38 , Loss : 0.7084 , Accuracy : 0.7577\n",
            "Epoch : 39 , Loss : 0.7069 , Accuracy : 0.7606\n",
            "Epoch : 40 , Loss : 0.7050 , Accuracy : 0.7609\n",
            "Epoch : 41 , Loss : 0.7027 , Accuracy : 0.7604\n",
            "Epoch : 42 , Loss : 0.6855 , Accuracy : 0.7655\n",
            "Epoch : 43 , Loss : 0.6897 , Accuracy : 0.7652\n",
            "Epoch : 44 , Loss : 0.6817 , Accuracy : 0.7677\n",
            "Epoch : 45 , Loss : 0.6791 , Accuracy : 0.7696\n",
            "Epoch : 46 , Loss : 0.6903 , Accuracy : 0.7702\n",
            "Epoch : 47 , Loss : 0.6684 , Accuracy : 0.7739\n",
            "Epoch : 48 , Loss : 0.6753 , Accuracy : 0.7743\n",
            "Epoch : 49 , Loss : 0.6676 , Accuracy : 0.7735\n",
            "Epoch : 50 , Loss : 0.6537 , Accuracy : 0.7800\n"
          ]
        }
      ],
      "source": [
        "for epoch in range (epochs):\n",
        "\n",
        "  train_loss = 0.0\n",
        "  train_acc = 0.0\n",
        "\n",
        "  for images,labels in train_loader:\n",
        "    images = images.to(device)\n",
        "    labels = labels.to(device)\n",
        "\n",
        "    outputs= model(images)\n",
        "    loss = loss_function(outputs, labels)\n",
        "\n",
        "    optimizer.zero_grad()\n",
        "    loss.backward()\n",
        "    optimizer.step()\n",
        "    \n",
        "    train_loss += loss\n",
        "    train_acc += acc(outputs,labels)\n",
        "  \n",
        "  total_loss = train_loss / len(train_loader)\n",
        "  train_acc = train_acc / len(train_loader)\n",
        "\n",
        "  print(f'Epoch : {epoch+1} , Loss : {total_loss:.4f} , Accuracy : {train_acc:.4f}')\n",
        "\n",
        "\n"
      ]
    }
  ],
  "metadata": {
    "accelerator": "GPU",
    "colab": {
      "provenance": []
    },
    "gpuClass": "standard",
    "kernelspec": {
      "display_name": "Python 3.8.9 64-bit",
      "language": "python",
      "name": "python3"
    },
    "language_info": {
      "name": "python",
      "version": "3.8.9"
    },
    "vscode": {
      "interpreter": {
        "hash": "ff0d91300876931207232d01add3156fa7c8214350996c757a3c6cebc4b3b5d5"
      }
    },
    "widgets": {
      "application/vnd.jupyter.widget-state+json": {
        "00c79c0926714deeb3c54286c5b5a079": {
          "model_module": "@jupyter-widgets/base",
          "model_module_version": "1.2.0",
          "model_name": "LayoutModel",
          "state": {
            "_model_module": "@jupyter-widgets/base",
            "_model_module_version": "1.2.0",
            "_model_name": "LayoutModel",
            "_view_count": null,
            "_view_module": "@jupyter-widgets/base",
            "_view_module_version": "1.2.0",
            "_view_name": "LayoutView",
            "align_content": null,
            "align_items": null,
            "align_self": null,
            "border": null,
            "bottom": null,
            "display": null,
            "flex": null,
            "flex_flow": null,
            "grid_area": null,
            "grid_auto_columns": null,
            "grid_auto_flow": null,
            "grid_auto_rows": null,
            "grid_column": null,
            "grid_gap": null,
            "grid_row": null,
            "grid_template_areas": null,
            "grid_template_columns": null,
            "grid_template_rows": null,
            "height": null,
            "justify_content": null,
            "justify_items": null,
            "left": null,
            "margin": null,
            "max_height": null,
            "max_width": null,
            "min_height": null,
            "min_width": null,
            "object_fit": null,
            "object_position": null,
            "order": null,
            "overflow": null,
            "overflow_x": null,
            "overflow_y": null,
            "padding": null,
            "right": null,
            "top": null,
            "visibility": null,
            "width": null
          }
        },
        "05c9f227202641d1b3035f298b8a0dbb": {
          "model_module": "@jupyter-widgets/controls",
          "model_module_version": "1.5.0",
          "model_name": "DescriptionStyleModel",
          "state": {
            "_model_module": "@jupyter-widgets/controls",
            "_model_module_version": "1.5.0",
            "_model_name": "DescriptionStyleModel",
            "_view_count": null,
            "_view_module": "@jupyter-widgets/base",
            "_view_module_version": "1.2.0",
            "_view_name": "StyleView",
            "description_width": ""
          }
        },
        "06fd5488fc144e148d1dc686dd4c9866": {
          "model_module": "@jupyter-widgets/controls",
          "model_module_version": "1.5.0",
          "model_name": "DescriptionStyleModel",
          "state": {
            "_model_module": "@jupyter-widgets/controls",
            "_model_module_version": "1.5.0",
            "_model_name": "DescriptionStyleModel",
            "_view_count": null,
            "_view_module": "@jupyter-widgets/base",
            "_view_module_version": "1.2.0",
            "_view_name": "StyleView",
            "description_width": ""
          }
        },
        "5b9f138364cd42dd9f12c4b25126be7c": {
          "model_module": "@jupyter-widgets/controls",
          "model_module_version": "1.5.0",
          "model_name": "FloatProgressModel",
          "state": {
            "_dom_classes": [],
            "_model_module": "@jupyter-widgets/controls",
            "_model_module_version": "1.5.0",
            "_model_name": "FloatProgressModel",
            "_view_count": null,
            "_view_module": "@jupyter-widgets/controls",
            "_view_module_version": "1.5.0",
            "_view_name": "ProgressView",
            "bar_style": "success",
            "description": "",
            "description_tooltip": null,
            "layout": "IPY_MODEL_00c79c0926714deeb3c54286c5b5a079",
            "max": 170498071,
            "min": 0,
            "orientation": "horizontal",
            "style": "IPY_MODEL_6b308d8587f84edba7a9d524b0a9f3e6",
            "value": 170498071
          }
        },
        "63daf51a0732431782a63b9bd2fa6598": {
          "model_module": "@jupyter-widgets/base",
          "model_module_version": "1.2.0",
          "model_name": "LayoutModel",
          "state": {
            "_model_module": "@jupyter-widgets/base",
            "_model_module_version": "1.2.0",
            "_model_name": "LayoutModel",
            "_view_count": null,
            "_view_module": "@jupyter-widgets/base",
            "_view_module_version": "1.2.0",
            "_view_name": "LayoutView",
            "align_content": null,
            "align_items": null,
            "align_self": null,
            "border": null,
            "bottom": null,
            "display": null,
            "flex": null,
            "flex_flow": null,
            "grid_area": null,
            "grid_auto_columns": null,
            "grid_auto_flow": null,
            "grid_auto_rows": null,
            "grid_column": null,
            "grid_gap": null,
            "grid_row": null,
            "grid_template_areas": null,
            "grid_template_columns": null,
            "grid_template_rows": null,
            "height": null,
            "justify_content": null,
            "justify_items": null,
            "left": null,
            "margin": null,
            "max_height": null,
            "max_width": null,
            "min_height": null,
            "min_width": null,
            "object_fit": null,
            "object_position": null,
            "order": null,
            "overflow": null,
            "overflow_x": null,
            "overflow_y": null,
            "padding": null,
            "right": null,
            "top": null,
            "visibility": null,
            "width": null
          }
        },
        "6b308d8587f84edba7a9d524b0a9f3e6": {
          "model_module": "@jupyter-widgets/controls",
          "model_module_version": "1.5.0",
          "model_name": "ProgressStyleModel",
          "state": {
            "_model_module": "@jupyter-widgets/controls",
            "_model_module_version": "1.5.0",
            "_model_name": "ProgressStyleModel",
            "_view_count": null,
            "_view_module": "@jupyter-widgets/base",
            "_view_module_version": "1.2.0",
            "_view_name": "StyleView",
            "bar_color": null,
            "description_width": ""
          }
        },
        "7cec8bee721d466c884b521902a17dcc": {
          "model_module": "@jupyter-widgets/controls",
          "model_module_version": "1.5.0",
          "model_name": "HBoxModel",
          "state": {
            "_dom_classes": [],
            "_model_module": "@jupyter-widgets/controls",
            "_model_module_version": "1.5.0",
            "_model_name": "HBoxModel",
            "_view_count": null,
            "_view_module": "@jupyter-widgets/controls",
            "_view_module_version": "1.5.0",
            "_view_name": "HBoxView",
            "box_style": "",
            "children": [
              "IPY_MODEL_d206029367754d8c92c3a93f4126af29",
              "IPY_MODEL_5b9f138364cd42dd9f12c4b25126be7c",
              "IPY_MODEL_bbe40400cb194aaea13aa411838abbc7"
            ],
            "layout": "IPY_MODEL_63daf51a0732431782a63b9bd2fa6598"
          }
        },
        "8f9e3c0bb30d4fe48f6dc36d65a3e957": {
          "model_module": "@jupyter-widgets/base",
          "model_module_version": "1.2.0",
          "model_name": "LayoutModel",
          "state": {
            "_model_module": "@jupyter-widgets/base",
            "_model_module_version": "1.2.0",
            "_model_name": "LayoutModel",
            "_view_count": null,
            "_view_module": "@jupyter-widgets/base",
            "_view_module_version": "1.2.0",
            "_view_name": "LayoutView",
            "align_content": null,
            "align_items": null,
            "align_self": null,
            "border": null,
            "bottom": null,
            "display": null,
            "flex": null,
            "flex_flow": null,
            "grid_area": null,
            "grid_auto_columns": null,
            "grid_auto_flow": null,
            "grid_auto_rows": null,
            "grid_column": null,
            "grid_gap": null,
            "grid_row": null,
            "grid_template_areas": null,
            "grid_template_columns": null,
            "grid_template_rows": null,
            "height": null,
            "justify_content": null,
            "justify_items": null,
            "left": null,
            "margin": null,
            "max_height": null,
            "max_width": null,
            "min_height": null,
            "min_width": null,
            "object_fit": null,
            "object_position": null,
            "order": null,
            "overflow": null,
            "overflow_x": null,
            "overflow_y": null,
            "padding": null,
            "right": null,
            "top": null,
            "visibility": null,
            "width": null
          }
        },
        "aef66ccbcc2a4f629abba3c5e650b63f": {
          "model_module": "@jupyter-widgets/base",
          "model_module_version": "1.2.0",
          "model_name": "LayoutModel",
          "state": {
            "_model_module": "@jupyter-widgets/base",
            "_model_module_version": "1.2.0",
            "_model_name": "LayoutModel",
            "_view_count": null,
            "_view_module": "@jupyter-widgets/base",
            "_view_module_version": "1.2.0",
            "_view_name": "LayoutView",
            "align_content": null,
            "align_items": null,
            "align_self": null,
            "border": null,
            "bottom": null,
            "display": null,
            "flex": null,
            "flex_flow": null,
            "grid_area": null,
            "grid_auto_columns": null,
            "grid_auto_flow": null,
            "grid_auto_rows": null,
            "grid_column": null,
            "grid_gap": null,
            "grid_row": null,
            "grid_template_areas": null,
            "grid_template_columns": null,
            "grid_template_rows": null,
            "height": null,
            "justify_content": null,
            "justify_items": null,
            "left": null,
            "margin": null,
            "max_height": null,
            "max_width": null,
            "min_height": null,
            "min_width": null,
            "object_fit": null,
            "object_position": null,
            "order": null,
            "overflow": null,
            "overflow_x": null,
            "overflow_y": null,
            "padding": null,
            "right": null,
            "top": null,
            "visibility": null,
            "width": null
          }
        },
        "bbe40400cb194aaea13aa411838abbc7": {
          "model_module": "@jupyter-widgets/controls",
          "model_module_version": "1.5.0",
          "model_name": "HTMLModel",
          "state": {
            "_dom_classes": [],
            "_model_module": "@jupyter-widgets/controls",
            "_model_module_version": "1.5.0",
            "_model_name": "HTMLModel",
            "_view_count": null,
            "_view_module": "@jupyter-widgets/controls",
            "_view_module_version": "1.5.0",
            "_view_name": "HTMLView",
            "description": "",
            "description_tooltip": null,
            "layout": "IPY_MODEL_8f9e3c0bb30d4fe48f6dc36d65a3e957",
            "placeholder": "​",
            "style": "IPY_MODEL_06fd5488fc144e148d1dc686dd4c9866",
            "value": " 170498071/170498071 [00:02&lt;00:00, 81838909.14it/s]"
          }
        },
        "d206029367754d8c92c3a93f4126af29": {
          "model_module": "@jupyter-widgets/controls",
          "model_module_version": "1.5.0",
          "model_name": "HTMLModel",
          "state": {
            "_dom_classes": [],
            "_model_module": "@jupyter-widgets/controls",
            "_model_module_version": "1.5.0",
            "_model_name": "HTMLModel",
            "_view_count": null,
            "_view_module": "@jupyter-widgets/controls",
            "_view_module_version": "1.5.0",
            "_view_name": "HTMLView",
            "description": "",
            "description_tooltip": null,
            "layout": "IPY_MODEL_aef66ccbcc2a4f629abba3c5e650b63f",
            "placeholder": "​",
            "style": "IPY_MODEL_05c9f227202641d1b3035f298b8a0dbb",
            "value": "100%"
          }
        }
      }
    }
  },
  "nbformat": 4,
  "nbformat_minor": 0
}
