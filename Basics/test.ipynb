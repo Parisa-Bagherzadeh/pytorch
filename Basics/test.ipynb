{
 "cells": [
  {
   "cell_type": "code",
   "execution_count": 1,
   "metadata": {},
   "outputs": [],
   "source": [
    "import torch"
   ]
  },
  {
   "cell_type": "code",
   "execution_count": 4,
   "metadata": {},
   "outputs": [
    {
     "name": "stdout",
     "output_type": "stream",
     "text": [
      "tensor([[7.5014e+28, 2.6217e+20, 1.6488e+22],\n",
      "        [1.7751e+28, 1.8524e+28, 9.1042e-12]])\n"
     ]
    }
   ],
   "source": [
    "x = torch.empty(2,3)\n",
    "print(x)"
   ]
  },
  {
   "cell_type": "code",
   "execution_count": 5,
   "metadata": {},
   "outputs": [
    {
     "name": "stdout",
     "output_type": "stream",
     "text": [
      "tensor([[0.5904, 0.0352],\n",
      "        [0.9367, 0.0451]])\n"
     ]
    }
   ],
   "source": [
    "x = torch.rand(2,2)\n",
    "print(x)"
   ]
  },
  {
   "cell_type": "code",
   "execution_count": 6,
   "metadata": {},
   "outputs": [
    {
     "data": {
      "text/plain": [
       "tensor([[0., 0., 0.],\n",
       "        [0., 0., 0.]])"
      ]
     },
     "execution_count": 6,
     "metadata": {},
     "output_type": "execute_result"
    }
   ],
   "source": [
    "x = torch.zeros(2,3)\n",
    "x"
   ]
  },
  {
   "cell_type": "code",
   "execution_count": 9,
   "metadata": {},
   "outputs": [
    {
     "name": "stdout",
     "output_type": "stream",
     "text": [
      "torch.float32\n"
     ]
    },
    {
     "data": {
      "text/plain": [
       "tensor([[1., 1., 1.],\n",
       "        [1., 1., 1.]])"
      ]
     },
     "execution_count": 9,
     "metadata": {},
     "output_type": "execute_result"
    }
   ],
   "source": [
    "x = torch.ones(2,3)\n",
    "print(x.dtype)\n",
    "x"
   ]
  },
  {
   "cell_type": "code",
   "execution_count": 11,
   "metadata": {},
   "outputs": [
    {
     "data": {
      "text/plain": [
       "tensor([[1, 1],\n",
       "        [1, 1],\n",
       "        [1, 1]], dtype=torch.int32)"
      ]
     },
     "execution_count": 11,
     "metadata": {},
     "output_type": "execute_result"
    }
   ],
   "source": [
    "x = torch.ones(3,2, dtype = torch.int)\n",
    "x.dtype\n",
    "x"
   ]
  },
  {
   "cell_type": "code",
   "execution_count": 17,
   "metadata": {},
   "outputs": [
    {
     "data": {
      "text/plain": [
       "tensor([[0.7441, 0.0135],\n",
       "        [0.2442, 0.0582]])"
      ]
     },
     "execution_count": 17,
     "metadata": {},
     "output_type": "execute_result"
    }
   ],
   "source": [
    "x = torch.rand(2,2)\n",
    "x.dtype\n",
    "x.size()\n",
    "x"
   ]
  },
  {
   "cell_type": "code",
   "execution_count": 18,
   "metadata": {},
   "outputs": [
    {
     "data": {
      "text/plain": [
       "tensor([1.3000, 0.1000])"
      ]
     },
     "execution_count": 18,
     "metadata": {},
     "output_type": "execute_result"
    }
   ],
   "source": [
    "x = torch.tensor([1.3 , 0.1])\n",
    "x"
   ]
  },
  {
   "cell_type": "code",
   "execution_count": 21,
   "metadata": {},
   "outputs": [
    {
     "data": {
      "text/plain": [
       "tensor([[0.2543, 0.2511],\n",
       "        [1.5713, 0.6631]])"
      ]
     },
     "execution_count": 21,
     "metadata": {},
     "output_type": "execute_result"
    }
   ],
   "source": [
    "x = torch.rand(2,2)\n",
    "y = torch.rand(2,2)\n",
    "z = x + y\n",
    "z = torch.add(x,y)\n",
    "z"
   ]
  },
  {
   "cell_type": "code",
   "execution_count": 23,
   "metadata": {},
   "outputs": [
    {
     "name": "stdout",
     "output_type": "stream",
     "text": [
      "tensor([[1.7984, 1.1606],\n",
      "        [1.1572, 1.1675]])\n",
      "tensor([[-0.9299, -0.5861],\n",
      "        [-0.3933, -0.2428]])\n"
     ]
    }
   ],
   "source": [
    "x = torch.rand(2,2)\n",
    "y = torch.rand(2,2)\n",
    "y.add_(x)\n",
    "print(y)\n",
    "\n",
    "z = torch.sub(x, y)\n",
    "print(z)"
   ]
  },
  {
   "cell_type": "code",
   "execution_count": 24,
   "metadata": {},
   "outputs": [
    {
     "data": {
      "text/plain": [
       "tensor([[0.7208, 0.1812],\n",
       "        [0.5215, 0.1904]])"
      ]
     },
     "execution_count": 24,
     "metadata": {},
     "output_type": "execute_result"
    }
   ],
   "source": [
    "x = torch.rand(2,2)\n",
    "y = torch.rand(2,2)\n",
    "y.mul_(x)\n",
    "y"
   ]
  },
  {
   "cell_type": "code",
   "execution_count": 32,
   "metadata": {},
   "outputs": [
    {
     "name": "stdout",
     "output_type": "stream",
     "text": [
      "tensor([[0.1971, 0.0392, 0.5375, 0.1076],\n",
      "        [0.4260, 0.7964, 0.7769, 0.4668],\n",
      "        [0.3892, 0.3364, 0.4895, 0.5005],\n",
      "        [0.2446, 0.3021, 0.3094, 0.9895],\n",
      "        [0.1703, 0.9577, 0.0662, 0.8515]])\n",
      "tensor([[0.1971, 0.0392],\n",
      "        [0.4260, 0.7964],\n",
      "        [0.3892, 0.3364],\n",
      "        [0.2446, 0.3021],\n",
      "        [0.1703, 0.9577]])\n",
      "tensor([0.4260, 0.7964, 0.7769, 0.4668])\n",
      "tensor(0.7964)\n",
      "0.7963874340057373\n"
     ]
    }
   ],
   "source": [
    "x = torch.rand(5,4)\n",
    "print(x)\n",
    "print(x[:,0:2])\n",
    "print(x[1,:])\n",
    "print(x[1,1])\n",
    "print(x[1,1].item()) #item() method just for a scaler"
   ]
  },
  {
   "cell_type": "code",
   "execution_count": 36,
   "metadata": {},
   "outputs": [
    {
     "name": "stdout",
     "output_type": "stream",
     "text": [
      "tensor([[0.7505, 0.2990, 0.1306, 0.2413],\n",
      "        [0.8692, 0.5092, 0.6348, 0.0413],\n",
      "        [0.7388, 0.2177, 0.1314, 0.5781],\n",
      "        [0.1798, 0.9838, 0.2237, 0.5627]])\n",
      "tensor([[0.7505],\n",
      "        [0.2990],\n",
      "        [0.1306],\n",
      "        [0.2413],\n",
      "        [0.8692],\n",
      "        [0.5092],\n",
      "        [0.6348],\n",
      "        [0.0413],\n",
      "        [0.7388],\n",
      "        [0.2177],\n",
      "        [0.1314],\n",
      "        [0.5781],\n",
      "        [0.1798],\n",
      "        [0.9838],\n",
      "        [0.2237],\n",
      "        [0.5627]])\n"
     ]
    }
   ],
   "source": [
    "x =torch.rand(4,4)\n",
    "print(x)\n",
    "y = x.view(16,1)\n",
    "print(y)"
   ]
  }
 ],
 "metadata": {
  "kernelspec": {
   "display_name": "Python 3.8.9 64-bit",
   "language": "python",
   "name": "python3"
  },
  "language_info": {
   "codemirror_mode": {
    "name": "ipython",
    "version": 3
   },
   "file_extension": ".py",
   "mimetype": "text/x-python",
   "name": "python",
   "nbconvert_exporter": "python",
   "pygments_lexer": "ipython3",
   "version": "3.8.9"
  },
  "orig_nbformat": 4,
  "vscode": {
   "interpreter": {
    "hash": "ff0d91300876931207232d01add3156fa7c8214350996c757a3c6cebc4b3b5d5"
   }
  }
 },
 "nbformat": 4,
 "nbformat_minor": 2
}
